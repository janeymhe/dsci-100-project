{
 "cells": [
  {
   "cell_type": "code",
   "execution_count": 5,
   "id": "98cecb6b-f0b7-4e9a-9ad3-40bf035a3101",
   "metadata": {},
   "outputs": [],
   "source": [
    "library(tidyverse)\n",
    "library(repr)\n",
    "library(tidymodels)\n",
    "library(ISLR)"
   ]
  },
  {
   "cell_type": "code",
   "execution_count": 6,
   "id": "2b276dff-b9fb-453b-b2a3-82211941ef16",
   "metadata": {},
   "outputs": [
    {
     "name": "stderr",
     "output_type": "stream",
     "text": [
      "\u001b[1mRows: \u001b[22m\u001b[34m196\u001b[39m \u001b[1mColumns: \u001b[22m\u001b[34m9\u001b[39m\n",
      "\u001b[36m──\u001b[39m \u001b[1mColumn specification\u001b[22m \u001b[36m────────────────────────────────────────────────────────\u001b[39m\n",
      "\u001b[1mDelimiter:\u001b[22m \",\"\n",
      "\u001b[31mchr\u001b[39m (4): experience, hashedEmail, name, gender\n",
      "\u001b[32mdbl\u001b[39m (2): played_hours, age\n",
      "\u001b[33mlgl\u001b[39m (3): subscribe, individualId, organizationName\n",
      "\n",
      "\u001b[36mℹ\u001b[39m Use `spec()` to retrieve the full column specification for this data.\n",
      "\u001b[36mℹ\u001b[39m Specify the column types or set `show_col_types = FALSE` to quiet this message.\n"
     ]
    },
    {
     "data": {
      "text/html": [
       "<table class=\"dataframe\">\n",
       "<caption>A tibble: 6 × 9</caption>\n",
       "<thead>\n",
       "\t<tr><th scope=col>experience</th><th scope=col>subscribe</th><th scope=col>hashedEmail</th><th scope=col>played_hours</th><th scope=col>name</th><th scope=col>gender</th><th scope=col>age</th><th scope=col>individualId</th><th scope=col>organizationName</th></tr>\n",
       "\t<tr><th scope=col>&lt;chr&gt;</th><th scope=col>&lt;lgl&gt;</th><th scope=col>&lt;chr&gt;</th><th scope=col>&lt;dbl&gt;</th><th scope=col>&lt;chr&gt;</th><th scope=col>&lt;chr&gt;</th><th scope=col>&lt;dbl&gt;</th><th scope=col>&lt;lgl&gt;</th><th scope=col>&lt;lgl&gt;</th></tr>\n",
       "</thead>\n",
       "<tbody>\n",
       "\t<tr><td>Pro    </td><td> TRUE</td><td>f6daba428a5e19a3d47574858c13550499be23603422e6a0ee9728f8b53e192d</td><td>30.3</td><td>Morgan   </td><td>Male  </td><td> 9</td><td>NA</td><td>NA</td></tr>\n",
       "\t<tr><td>Veteran</td><td> TRUE</td><td>f3c813577c458ba0dfef80996f8f32c93b6e8af1fa939732842f2312358a88e9</td><td> 3.8</td><td>Christian</td><td>Male  </td><td>17</td><td>NA</td><td>NA</td></tr>\n",
       "\t<tr><td>Veteran</td><td>FALSE</td><td>b674dd7ee0d24096d1c019615ce4d12b20fcbff12d79d3c5a9d2118eb7ccbb28</td><td> 0.0</td><td>Blake    </td><td>Male  </td><td>17</td><td>NA</td><td>NA</td></tr>\n",
       "\t<tr><td>Amateur</td><td> TRUE</td><td>23fe711e0e3b77f1da7aa221ab1192afe21648d47d2b4fa7a5a659ff443a0eb5</td><td> 0.7</td><td>Flora    </td><td>Female</td><td>21</td><td>NA</td><td>NA</td></tr>\n",
       "\t<tr><td>Regular</td><td> TRUE</td><td>7dc01f10bf20671ecfccdac23812b1b415acd42c2147cb0af4d48fcce2420f3e</td><td> 0.1</td><td>Kylie    </td><td>Male  </td><td>21</td><td>NA</td><td>NA</td></tr>\n",
       "\t<tr><td>Amateur</td><td> TRUE</td><td>f58aad5996a435f16b0284a3b267f973f9af99e7a89bee0430055a44fa92f977</td><td> 0.0</td><td>Adrian   </td><td>Female</td><td>17</td><td>NA</td><td>NA</td></tr>\n",
       "</tbody>\n",
       "</table>\n"
      ],
      "text/latex": [
       "A tibble: 6 × 9\n",
       "\\begin{tabular}{lllllllll}\n",
       " experience & subscribe & hashedEmail & played\\_hours & name & gender & age & individualId & organizationName\\\\\n",
       " <chr> & <lgl> & <chr> & <dbl> & <chr> & <chr> & <dbl> & <lgl> & <lgl>\\\\\n",
       "\\hline\n",
       "\t Pro     &  TRUE & f6daba428a5e19a3d47574858c13550499be23603422e6a0ee9728f8b53e192d & 30.3 & Morgan    & Male   &  9 & NA & NA\\\\\n",
       "\t Veteran &  TRUE & f3c813577c458ba0dfef80996f8f32c93b6e8af1fa939732842f2312358a88e9 &  3.8 & Christian & Male   & 17 & NA & NA\\\\\n",
       "\t Veteran & FALSE & b674dd7ee0d24096d1c019615ce4d12b20fcbff12d79d3c5a9d2118eb7ccbb28 &  0.0 & Blake     & Male   & 17 & NA & NA\\\\\n",
       "\t Amateur &  TRUE & 23fe711e0e3b77f1da7aa221ab1192afe21648d47d2b4fa7a5a659ff443a0eb5 &  0.7 & Flora     & Female & 21 & NA & NA\\\\\n",
       "\t Regular &  TRUE & 7dc01f10bf20671ecfccdac23812b1b415acd42c2147cb0af4d48fcce2420f3e &  0.1 & Kylie     & Male   & 21 & NA & NA\\\\\n",
       "\t Amateur &  TRUE & f58aad5996a435f16b0284a3b267f973f9af99e7a89bee0430055a44fa92f977 &  0.0 & Adrian    & Female & 17 & NA & NA\\\\\n",
       "\\end{tabular}\n"
      ],
      "text/markdown": [
       "\n",
       "A tibble: 6 × 9\n",
       "\n",
       "| experience &lt;chr&gt; | subscribe &lt;lgl&gt; | hashedEmail &lt;chr&gt; | played_hours &lt;dbl&gt; | name &lt;chr&gt; | gender &lt;chr&gt; | age &lt;dbl&gt; | individualId &lt;lgl&gt; | organizationName &lt;lgl&gt; |\n",
       "|---|---|---|---|---|---|---|---|---|\n",
       "| Pro     |  TRUE | f6daba428a5e19a3d47574858c13550499be23603422e6a0ee9728f8b53e192d | 30.3 | Morgan    | Male   |  9 | NA | NA |\n",
       "| Veteran |  TRUE | f3c813577c458ba0dfef80996f8f32c93b6e8af1fa939732842f2312358a88e9 |  3.8 | Christian | Male   | 17 | NA | NA |\n",
       "| Veteran | FALSE | b674dd7ee0d24096d1c019615ce4d12b20fcbff12d79d3c5a9d2118eb7ccbb28 |  0.0 | Blake     | Male   | 17 | NA | NA |\n",
       "| Amateur |  TRUE | 23fe711e0e3b77f1da7aa221ab1192afe21648d47d2b4fa7a5a659ff443a0eb5 |  0.7 | Flora     | Female | 21 | NA | NA |\n",
       "| Regular |  TRUE | 7dc01f10bf20671ecfccdac23812b1b415acd42c2147cb0af4d48fcce2420f3e |  0.1 | Kylie     | Male   | 21 | NA | NA |\n",
       "| Amateur |  TRUE | f58aad5996a435f16b0284a3b267f973f9af99e7a89bee0430055a44fa92f977 |  0.0 | Adrian    | Female | 17 | NA | NA |\n",
       "\n"
      ],
      "text/plain": [
       "  experience subscribe\n",
       "1 Pro         TRUE    \n",
       "2 Veteran     TRUE    \n",
       "3 Veteran    FALSE    \n",
       "4 Amateur     TRUE    \n",
       "5 Regular     TRUE    \n",
       "6 Amateur     TRUE    \n",
       "  hashedEmail                                                      played_hours\n",
       "1 f6daba428a5e19a3d47574858c13550499be23603422e6a0ee9728f8b53e192d 30.3        \n",
       "2 f3c813577c458ba0dfef80996f8f32c93b6e8af1fa939732842f2312358a88e9  3.8        \n",
       "3 b674dd7ee0d24096d1c019615ce4d12b20fcbff12d79d3c5a9d2118eb7ccbb28  0.0        \n",
       "4 23fe711e0e3b77f1da7aa221ab1192afe21648d47d2b4fa7a5a659ff443a0eb5  0.7        \n",
       "5 7dc01f10bf20671ecfccdac23812b1b415acd42c2147cb0af4d48fcce2420f3e  0.1        \n",
       "6 f58aad5996a435f16b0284a3b267f973f9af99e7a89bee0430055a44fa92f977  0.0        \n",
       "  name      gender age individualId organizationName\n",
       "1 Morgan    Male    9  NA           NA              \n",
       "2 Christian Male   17  NA           NA              \n",
       "3 Blake     Male   17  NA           NA              \n",
       "4 Flora     Female 21  NA           NA              \n",
       "5 Kylie     Male   21  NA           NA              \n",
       "6 Adrian    Female 17  NA           NA              "
      ]
     },
     "metadata": {},
     "output_type": "display_data"
    }
   ],
   "source": [
    "url_players <- \"https://drive.google.com/uc?export=download&id=1Mw9vW0hjTJwRWx0bDXiSpYsO3gKogaPz\"\n",
    "\n",
    "players_ <- read_csv(url_players)\n",
    "head(players)"
   ]
  },
  {
   "cell_type": "code",
   "execution_count": 11,
   "id": "1cf26e8e-1b1d-479c-ba32-5cfc8bdd9365",
   "metadata": {},
   "outputs": [
    {
     "data": {
      "text/html": [
       "<table class=\"dataframe\">\n",
       "<caption>A tibble: 6 × 3</caption>\n",
       "<thead>\n",
       "\t<tr><th scope=col>experience</th><th scope=col>age</th><th scope=col>played_hours</th></tr>\n",
       "\t<tr><th scope=col>&lt;chr&gt;</th><th scope=col>&lt;dbl&gt;</th><th scope=col>&lt;dbl&gt;</th></tr>\n",
       "</thead>\n",
       "<tbody>\n",
       "\t<tr><td>Pro    </td><td> 9</td><td>30.3</td></tr>\n",
       "\t<tr><td>Veteran</td><td>17</td><td> 3.8</td></tr>\n",
       "\t<tr><td>Veteran</td><td>17</td><td> 0.0</td></tr>\n",
       "\t<tr><td>Amateur</td><td>21</td><td> 0.7</td></tr>\n",
       "\t<tr><td>Regular</td><td>21</td><td> 0.1</td></tr>\n",
       "\t<tr><td>Amateur</td><td>17</td><td> 0.0</td></tr>\n",
       "</tbody>\n",
       "</table>\n"
      ],
      "text/latex": [
       "A tibble: 6 × 3\n",
       "\\begin{tabular}{lll}\n",
       " experience & age & played\\_hours\\\\\n",
       " <chr> & <dbl> & <dbl>\\\\\n",
       "\\hline\n",
       "\t Pro     &  9 & 30.3\\\\\n",
       "\t Veteran & 17 &  3.8\\\\\n",
       "\t Veteran & 17 &  0.0\\\\\n",
       "\t Amateur & 21 &  0.7\\\\\n",
       "\t Regular & 21 &  0.1\\\\\n",
       "\t Amateur & 17 &  0.0\\\\\n",
       "\\end{tabular}\n"
      ],
      "text/markdown": [
       "\n",
       "A tibble: 6 × 3\n",
       "\n",
       "| experience &lt;chr&gt; | age &lt;dbl&gt; | played_hours &lt;dbl&gt; |\n",
       "|---|---|---|\n",
       "| Pro     |  9 | 30.3 |\n",
       "| Veteran | 17 |  3.8 |\n",
       "| Veteran | 17 |  0.0 |\n",
       "| Amateur | 21 |  0.7 |\n",
       "| Regular | 21 |  0.1 |\n",
       "| Amateur | 17 |  0.0 |\n",
       "\n"
      ],
      "text/plain": [
       "  experience age played_hours\n",
       "1 Pro         9  30.3        \n",
       "2 Veteran    17   3.8        \n",
       "3 Veteran    17   0.0        \n",
       "4 Amateur    21   0.7        \n",
       "5 Regular    21   0.1        \n",
       "6 Amateur    17   0.0        "
      ]
     },
     "metadata": {},
     "output_type": "display_data"
    }
   ],
   "source": [
    "players <- players|> \n",
    "          select(experience, age, played_hours)|> \n",
    "          as_tibble()\n",
    "head(players)"
   ]
  },
  {
   "cell_type": "code",
   "execution_count": 20,
   "id": "10932ad6-0bb3-44b1-a6ae-f7d0b7823425",
   "metadata": {},
   "outputs": [
    {
     "data": {
      "text/html": [
       "<table class=\"dataframe\">\n",
       "<caption>A tibble: 6 × 4</caption>\n",
       "<thead>\n",
       "\t<tr><th scope=col>experience</th><th scope=col>age</th><th scope=col>played_hours</th><th scope=col>experience_num</th></tr>\n",
       "\t<tr><th scope=col>&lt;chr&gt;</th><th scope=col>&lt;dbl&gt;</th><th scope=col>&lt;dbl&gt;</th><th scope=col>&lt;dbl&gt;</th></tr>\n",
       "</thead>\n",
       "<tbody>\n",
       "\t<tr><td>Pro    </td><td> 9</td><td>30.3</td><td>4</td></tr>\n",
       "\t<tr><td>Veteran</td><td>17</td><td> 3.8</td><td>5</td></tr>\n",
       "\t<tr><td>Veteran</td><td>17</td><td> 0.0</td><td>5</td></tr>\n",
       "\t<tr><td>Amateur</td><td>21</td><td> 0.7</td><td>2</td></tr>\n",
       "\t<tr><td>Regular</td><td>21</td><td> 0.1</td><td>3</td></tr>\n",
       "\t<tr><td>Amateur</td><td>17</td><td> 0.0</td><td>2</td></tr>\n",
       "</tbody>\n",
       "</table>\n"
      ],
      "text/latex": [
       "A tibble: 6 × 4\n",
       "\\begin{tabular}{llll}\n",
       " experience & age & played\\_hours & experience\\_num\\\\\n",
       " <chr> & <dbl> & <dbl> & <dbl>\\\\\n",
       "\\hline\n",
       "\t Pro     &  9 & 30.3 & 4\\\\\n",
       "\t Veteran & 17 &  3.8 & 5\\\\\n",
       "\t Veteran & 17 &  0.0 & 5\\\\\n",
       "\t Amateur & 21 &  0.7 & 2\\\\\n",
       "\t Regular & 21 &  0.1 & 3\\\\\n",
       "\t Amateur & 17 &  0.0 & 2\\\\\n",
       "\\end{tabular}\n"
      ],
      "text/markdown": [
       "\n",
       "A tibble: 6 × 4\n",
       "\n",
       "| experience &lt;chr&gt; | age &lt;dbl&gt; | played_hours &lt;dbl&gt; | experience_num &lt;dbl&gt; |\n",
       "|---|---|---|---|\n",
       "| Pro     |  9 | 30.3 | 4 |\n",
       "| Veteran | 17 |  3.8 | 5 |\n",
       "| Veteran | 17 |  0.0 | 5 |\n",
       "| Amateur | 21 |  0.7 | 2 |\n",
       "| Regular | 21 |  0.1 | 3 |\n",
       "| Amateur | 17 |  0.0 | 2 |\n",
       "\n"
      ],
      "text/plain": [
       "  experience age played_hours experience_num\n",
       "1 Pro         9  30.3         4             \n",
       "2 Veteran    17   3.8         5             \n",
       "3 Veteran    17   0.0         5             \n",
       "4 Amateur    21   0.7         2             \n",
       "5 Regular    21   0.1         3             \n",
       "6 Amateur    17   0.0         2             "
      ]
     },
     "metadata": {},
     "output_type": "display_data"
    }
   ],
   "source": [
    "# to make the exprience into ordinal data \n",
    "players_numerical <- players|>\n",
    "                     mutate(experience_num = case_when(experience == \"Veteran\" ~ 5,\n",
    "                                                       experience == \"Pro\" ~ 4,\n",
    "                                                       experience == \"Regular\" ~ 3,\n",
    "                                                       experience == \"Amateur\" ~ 2,\n",
    "                                                       experience == \"Beginner\" ~ 1))\n",
    "head(players_numerical)"
   ]
  },
  {
   "cell_type": "code",
   "execution_count": 12,
   "id": "31c066a0-52f3-4a16-a11a-4a5e14441923",
   "metadata": {},
   "outputs": [],
   "source": [
    "#spilting \n",
    "players_split <- initial_split(players_numerical, prop = 0.75, strata = played_hours)\n",
    "players_training <- training(players_split)\n",
    "players_testing <- testing(players_split)"
   ]
  },
  {
   "cell_type": "code",
   "execution_count": 13,
   "id": "6736a2c0-f4c1-46ed-b04c-41450f136e16",
   "metadata": {},
   "outputs": [
    {
     "ename": "ERROR",
     "evalue": "Error in parse(text = x, srcfile = src): <text>:2:0: unexpected end of input\n1: mutate(experience_num = case_when(experience == \"Pro\" ~ 5,\n   ^\n",
     "output_type": "error",
     "traceback": [
      "Error in parse(text = x, srcfile = src): <text>:2:0: unexpected end of input\n1: mutate(experience_num = case_when(experience == \"Pro\" ~ 5,\n   ^\nTraceback:\n"
     ]
    }
   ],
   "source": [
    "# to make the exprience into ordinal data \n",
    "\n",
    "\n",
    "mutate(experience_num = case_when(experience == \"Pro\" ~ 5,\n",
    "                                  experience == \"Amateur\" ~ 1"
   ]
  },
  {
   "cell_type": "code",
   "execution_count": 14,
   "id": "01d3adf9-b6b2-4d67-828c-985aa5023e19",
   "metadata": {},
   "outputs": [
    {
     "ename": "ERROR",
     "evalue": "Error in parse(text = x, srcfile = src): <text>:3:5: unexpected ','\n2: gender == \"Female\" ~ 1,\n3: ...),\n       ^\n",
     "output_type": "error",
     "traceback": [
      "Error in parse(text = x, srcfile = src): <text>:3:5: unexpected ','\n2: gender == \"Female\" ~ 1,\n3: ...),\n       ^\nTraceback:\n"
     ]
    }
   ],
   "source": [
    "gender_female = case_when(gender == \"Male\" ~ 0,\n",
    "gender == \"Female\" ~ 1,\n",
    "...),\n",
    "...)"
   ]
  },
  {
   "cell_type": "code",
   "execution_count": null,
   "id": "602be715-7cce-4a3a-a13d-e61e05c263ff",
   "metadata": {},
   "outputs": [],
   "source": []
  }
 ],
 "metadata": {
  "kernelspec": {
   "display_name": "R",
   "language": "R",
   "name": "ir"
  },
  "language_info": {
   "codemirror_mode": "r",
   "file_extension": ".r",
   "mimetype": "text/x-r-source",
   "name": "R",
   "pygments_lexer": "r",
   "version": "4.3.3"
  }
 },
 "nbformat": 4,
 "nbformat_minor": 5
}
