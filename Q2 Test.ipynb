{
 "cells": [
  {
   "cell_type": "markdown",
   "id": "0712a9b1-1640-4cc9-863c-685468ba49b4",
   "metadata": {},
   "source": [
    "Question 2: What time window will have the most players in it?"
   ]
  },
  {
   "cell_type": "code",
   "execution_count": 1,
   "id": "5f756b71-fd1a-4bbe-97bc-6cd9c7d6deaa",
   "metadata": {
    "scrolled": true
   },
   "outputs": [
    {
     "name": "stderr",
     "output_type": "stream",
     "text": [
      "── \u001b[1mAttaching core tidyverse packages\u001b[22m ──────────────────────── tidyverse 2.0.0 ──\n",
      "\u001b[32m✔\u001b[39m \u001b[34mdplyr    \u001b[39m 1.1.4     \u001b[32m✔\u001b[39m \u001b[34mreadr    \u001b[39m 2.1.5\n",
      "\u001b[32m✔\u001b[39m \u001b[34mforcats  \u001b[39m 1.0.0     \u001b[32m✔\u001b[39m \u001b[34mstringr  \u001b[39m 1.5.1\n",
      "\u001b[32m✔\u001b[39m \u001b[34mggplot2  \u001b[39m 3.5.1     \u001b[32m✔\u001b[39m \u001b[34mtibble   \u001b[39m 3.2.1\n",
      "\u001b[32m✔\u001b[39m \u001b[34mlubridate\u001b[39m 1.9.3     \u001b[32m✔\u001b[39m \u001b[34mtidyr    \u001b[39m 1.3.1\n",
      "\u001b[32m✔\u001b[39m \u001b[34mpurrr    \u001b[39m 1.0.2     \n",
      "── \u001b[1mConflicts\u001b[22m ────────────────────────────────────────── tidyverse_conflicts() ──\n",
      "\u001b[31m✖\u001b[39m \u001b[34mdplyr\u001b[39m::\u001b[32mfilter()\u001b[39m masks \u001b[34mstats\u001b[39m::filter()\n",
      "\u001b[31m✖\u001b[39m \u001b[34mdplyr\u001b[39m::\u001b[32mlag()\u001b[39m    masks \u001b[34mstats\u001b[39m::lag()\n",
      "\u001b[36mℹ\u001b[39m Use the conflicted package (\u001b[3m\u001b[34m<http://conflicted.r-lib.org/>\u001b[39m\u001b[23m) to force all conflicts to become errors\n",
      "── \u001b[1mAttaching packages\u001b[22m ────────────────────────────────────── tidymodels 1.1.1 ──\n",
      "\n",
      "\u001b[32m✔\u001b[39m \u001b[34mbroom       \u001b[39m 1.0.6     \u001b[32m✔\u001b[39m \u001b[34mrsample     \u001b[39m 1.2.1\n",
      "\u001b[32m✔\u001b[39m \u001b[34mdials       \u001b[39m 1.3.0     \u001b[32m✔\u001b[39m \u001b[34mtune        \u001b[39m 1.1.2\n",
      "\u001b[32m✔\u001b[39m \u001b[34minfer       \u001b[39m 1.0.7     \u001b[32m✔\u001b[39m \u001b[34mworkflows   \u001b[39m 1.1.4\n",
      "\u001b[32m✔\u001b[39m \u001b[34mmodeldata   \u001b[39m 1.4.0     \u001b[32m✔\u001b[39m \u001b[34mworkflowsets\u001b[39m 1.0.1\n",
      "\u001b[32m✔\u001b[39m \u001b[34mparsnip     \u001b[39m 1.2.1     \u001b[32m✔\u001b[39m \u001b[34myardstick   \u001b[39m 1.3.1\n",
      "\u001b[32m✔\u001b[39m \u001b[34mrecipes     \u001b[39m 1.1.0     \n",
      "\n",
      "── \u001b[1mConflicts\u001b[22m ───────────────────────────────────────── tidymodels_conflicts() ──\n",
      "\u001b[31m✖\u001b[39m \u001b[34mscales\u001b[39m::\u001b[32mdiscard()\u001b[39m masks \u001b[34mpurrr\u001b[39m::discard()\n",
      "\u001b[31m✖\u001b[39m \u001b[34mdplyr\u001b[39m::\u001b[32mfilter()\u001b[39m   masks \u001b[34mstats\u001b[39m::filter()\n",
      "\u001b[31m✖\u001b[39m \u001b[34mrecipes\u001b[39m::\u001b[32mfixed()\u001b[39m  masks \u001b[34mstringr\u001b[39m::fixed()\n",
      "\u001b[31m✖\u001b[39m \u001b[34mdplyr\u001b[39m::\u001b[32mlag()\u001b[39m      masks \u001b[34mstats\u001b[39m::lag()\n",
      "\u001b[31m✖\u001b[39m \u001b[34myardstick\u001b[39m::\u001b[32mspec()\u001b[39m masks \u001b[34mreadr\u001b[39m::spec()\n",
      "\u001b[31m✖\u001b[39m \u001b[34mrecipes\u001b[39m::\u001b[32mstep()\u001b[39m   masks \u001b[34mstats\u001b[39m::step()\n",
      "\u001b[34m•\u001b[39m Dig deeper into tidy modeling with R at \u001b[32mhttps://www.tmwr.org\u001b[39m\n",
      "\n"
     ]
    }
   ],
   "source": [
    "library(tidyverse)\n",
    "library(repr)\n",
    "library(tidymodels)\n",
    "library(purrr)\n",
    "library(dplyr)\n",
    "library(lubridate)"
   ]
  },
  {
   "cell_type": "markdown",
   "id": "f6fb6b61-de5f-4224-b5a3-04cc813fbe79",
   "metadata": {},
   "source": [
    "sources:\n",
    "https://r4ds.had.co.nz/dates-and-times.html\n",
    "https://forum.posit.co/t/converting-column-types/157014"
   ]
  },
  {
   "cell_type": "code",
   "execution_count": 2,
   "id": "e7a41aca-cd24-4745-aef6-dad0b892ed79",
   "metadata": {},
   "outputs": [
    {
     "name": "stderr",
     "output_type": "stream",
     "text": [
      "\u001b[1mRows: \u001b[22m\u001b[34m1535\u001b[39m \u001b[1mColumns: \u001b[22m\u001b[34m5\u001b[39m\n",
      "\u001b[36m──\u001b[39m \u001b[1mColumn specification\u001b[22m \u001b[36m────────────────────────────────────────────────────────\u001b[39m\n",
      "\u001b[1mDelimiter:\u001b[22m \",\"\n",
      "\u001b[31mchr\u001b[39m (3): hashedEmail, start_time, end_time\n",
      "\u001b[32mdbl\u001b[39m (2): original_start_time, original_end_time\n",
      "\n",
      "\u001b[36mℹ\u001b[39m Use `spec()` to retrieve the full column specification for this data.\n",
      "\u001b[36mℹ\u001b[39m Specify the column types or set `show_col_types = FALSE` to quiet this message.\n"
     ]
    },
    {
     "data": {
      "text/html": [
       "<table class=\"dataframe\">\n",
       "<caption>A tibble: 6 × 5</caption>\n",
       "<thead>\n",
       "\t<tr><th scope=col>hashedEmail</th><th scope=col>start_time</th><th scope=col>end_time</th><th scope=col>original_start_time</th><th scope=col>original_end_time</th></tr>\n",
       "\t<tr><th scope=col>&lt;chr&gt;</th><th scope=col>&lt;chr&gt;</th><th scope=col>&lt;chr&gt;</th><th scope=col>&lt;dbl&gt;</th><th scope=col>&lt;dbl&gt;</th></tr>\n",
       "</thead>\n",
       "<tbody>\n",
       "\t<tr><td>bfce39c89d6549f2bb94d8064d3ce69dc3d7e72b38f431d8aa0c4bf95ccee6bf</td><td>30/06/2024 18:12</td><td>30/06/2024 18:24</td><td>1.71977e+12</td><td>1.71977e+12</td></tr>\n",
       "\t<tr><td>36d9cbb4c6bc0c1a6911436d2da0d09ec625e43e6552f575d4acc9cf487c4686</td><td>17/06/2024 23:33</td><td>17/06/2024 23:46</td><td>1.71867e+12</td><td>1.71867e+12</td></tr>\n",
       "\t<tr><td>f8f5477f5a2e53616ae37421b1c660b971192bd8ff77e3398304c7ae42581fdc</td><td>25/07/2024 17:34</td><td>25/07/2024 17:57</td><td>1.72193e+12</td><td>1.72193e+12</td></tr>\n",
       "\t<tr><td>bfce39c89d6549f2bb94d8064d3ce69dc3d7e72b38f431d8aa0c4bf95ccee6bf</td><td>25/07/2024 03:22</td><td>25/07/2024 03:58</td><td>1.72188e+12</td><td>1.72188e+12</td></tr>\n",
       "\t<tr><td>36d9cbb4c6bc0c1a6911436d2da0d09ec625e43e6552f575d4acc9cf487c4686</td><td>25/05/2024 16:01</td><td>25/05/2024 16:12</td><td>1.71665e+12</td><td>1.71665e+12</td></tr>\n",
       "\t<tr><td>bfce39c89d6549f2bb94d8064d3ce69dc3d7e72b38f431d8aa0c4bf95ccee6bf</td><td>23/06/2024 15:08</td><td>23/06/2024 17:10</td><td>1.71916e+12</td><td>1.71916e+12</td></tr>\n",
       "</tbody>\n",
       "</table>\n"
      ],
      "text/latex": [
       "A tibble: 6 × 5\n",
       "\\begin{tabular}{lllll}\n",
       " hashedEmail & start\\_time & end\\_time & original\\_start\\_time & original\\_end\\_time\\\\\n",
       " <chr> & <chr> & <chr> & <dbl> & <dbl>\\\\\n",
       "\\hline\n",
       "\t bfce39c89d6549f2bb94d8064d3ce69dc3d7e72b38f431d8aa0c4bf95ccee6bf & 30/06/2024 18:12 & 30/06/2024 18:24 & 1.71977e+12 & 1.71977e+12\\\\\n",
       "\t 36d9cbb4c6bc0c1a6911436d2da0d09ec625e43e6552f575d4acc9cf487c4686 & 17/06/2024 23:33 & 17/06/2024 23:46 & 1.71867e+12 & 1.71867e+12\\\\\n",
       "\t f8f5477f5a2e53616ae37421b1c660b971192bd8ff77e3398304c7ae42581fdc & 25/07/2024 17:34 & 25/07/2024 17:57 & 1.72193e+12 & 1.72193e+12\\\\\n",
       "\t bfce39c89d6549f2bb94d8064d3ce69dc3d7e72b38f431d8aa0c4bf95ccee6bf & 25/07/2024 03:22 & 25/07/2024 03:58 & 1.72188e+12 & 1.72188e+12\\\\\n",
       "\t 36d9cbb4c6bc0c1a6911436d2da0d09ec625e43e6552f575d4acc9cf487c4686 & 25/05/2024 16:01 & 25/05/2024 16:12 & 1.71665e+12 & 1.71665e+12\\\\\n",
       "\t bfce39c89d6549f2bb94d8064d3ce69dc3d7e72b38f431d8aa0c4bf95ccee6bf & 23/06/2024 15:08 & 23/06/2024 17:10 & 1.71916e+12 & 1.71916e+12\\\\\n",
       "\\end{tabular}\n"
      ],
      "text/markdown": [
       "\n",
       "A tibble: 6 × 5\n",
       "\n",
       "| hashedEmail &lt;chr&gt; | start_time &lt;chr&gt; | end_time &lt;chr&gt; | original_start_time &lt;dbl&gt; | original_end_time &lt;dbl&gt; |\n",
       "|---|---|---|---|---|\n",
       "| bfce39c89d6549f2bb94d8064d3ce69dc3d7e72b38f431d8aa0c4bf95ccee6bf | 30/06/2024 18:12 | 30/06/2024 18:24 | 1.71977e+12 | 1.71977e+12 |\n",
       "| 36d9cbb4c6bc0c1a6911436d2da0d09ec625e43e6552f575d4acc9cf487c4686 | 17/06/2024 23:33 | 17/06/2024 23:46 | 1.71867e+12 | 1.71867e+12 |\n",
       "| f8f5477f5a2e53616ae37421b1c660b971192bd8ff77e3398304c7ae42581fdc | 25/07/2024 17:34 | 25/07/2024 17:57 | 1.72193e+12 | 1.72193e+12 |\n",
       "| bfce39c89d6549f2bb94d8064d3ce69dc3d7e72b38f431d8aa0c4bf95ccee6bf | 25/07/2024 03:22 | 25/07/2024 03:58 | 1.72188e+12 | 1.72188e+12 |\n",
       "| 36d9cbb4c6bc0c1a6911436d2da0d09ec625e43e6552f575d4acc9cf487c4686 | 25/05/2024 16:01 | 25/05/2024 16:12 | 1.71665e+12 | 1.71665e+12 |\n",
       "| bfce39c89d6549f2bb94d8064d3ce69dc3d7e72b38f431d8aa0c4bf95ccee6bf | 23/06/2024 15:08 | 23/06/2024 17:10 | 1.71916e+12 | 1.71916e+12 |\n",
       "\n"
      ],
      "text/plain": [
       "  hashedEmail                                                     \n",
       "1 bfce39c89d6549f2bb94d8064d3ce69dc3d7e72b38f431d8aa0c4bf95ccee6bf\n",
       "2 36d9cbb4c6bc0c1a6911436d2da0d09ec625e43e6552f575d4acc9cf487c4686\n",
       "3 f8f5477f5a2e53616ae37421b1c660b971192bd8ff77e3398304c7ae42581fdc\n",
       "4 bfce39c89d6549f2bb94d8064d3ce69dc3d7e72b38f431d8aa0c4bf95ccee6bf\n",
       "5 36d9cbb4c6bc0c1a6911436d2da0d09ec625e43e6552f575d4acc9cf487c4686\n",
       "6 bfce39c89d6549f2bb94d8064d3ce69dc3d7e72b38f431d8aa0c4bf95ccee6bf\n",
       "  start_time       end_time         original_start_time original_end_time\n",
       "1 30/06/2024 18:12 30/06/2024 18:24 1.71977e+12         1.71977e+12      \n",
       "2 17/06/2024 23:33 17/06/2024 23:46 1.71867e+12         1.71867e+12      \n",
       "3 25/07/2024 17:34 25/07/2024 17:57 1.72193e+12         1.72193e+12      \n",
       "4 25/07/2024 03:22 25/07/2024 03:58 1.72188e+12         1.72188e+12      \n",
       "5 25/05/2024 16:01 25/05/2024 16:12 1.71665e+12         1.71665e+12      \n",
       "6 23/06/2024 15:08 23/06/2024 17:10 1.71916e+12         1.71916e+12      "
      ]
     },
     "metadata": {},
     "output_type": "display_data"
    }
   ],
   "source": [
    "# Loading the data \n",
    "url_players <- \"https://drive.google.com/uc?export=download&id=1Mw9vW0hjTJwRWx0bDXiSpYsO3gKogaPz\"\n",
    "url_sessions <- \"https://drive.google.com/uc?export=download&id=14O91N5OlVkvdGxXNJUj5jIsV5RexhzbB\"\n",
    "\n",
    "#players <- read_csv(url_players)  --> dont seem to need this data set\n",
    "sessions <- read_csv(url_sessions)\n",
    "\n",
    "#head(players) \n",
    "head(sessions)"
   ]
  },
  {
   "cell_type": "code",
   "execution_count": 3,
   "id": "de3c36cd-2143-42b5-ab72-3a1c94f030eb",
   "metadata": {},
   "outputs": [
    {
     "data": {
      "text/html": [
       "<table class=\"dataframe\">\n",
       "<caption>A tibble: 6 × 2</caption>\n",
       "<thead>\n",
       "\t<tr><th scope=col>start_time</th><th scope=col>end_time</th></tr>\n",
       "\t<tr><th scope=col>&lt;chr&gt;</th><th scope=col>&lt;chr&gt;</th></tr>\n",
       "</thead>\n",
       "<tbody>\n",
       "\t<tr><td>30/06/2024 18:12</td><td>30/06/2024 18:24</td></tr>\n",
       "\t<tr><td>17/06/2024 23:33</td><td>17/06/2024 23:46</td></tr>\n",
       "\t<tr><td>25/07/2024 17:34</td><td>25/07/2024 17:57</td></tr>\n",
       "\t<tr><td>25/07/2024 03:22</td><td>25/07/2024 03:58</td></tr>\n",
       "\t<tr><td>25/05/2024 16:01</td><td>25/05/2024 16:12</td></tr>\n",
       "\t<tr><td>23/06/2024 15:08</td><td>23/06/2024 17:10</td></tr>\n",
       "</tbody>\n",
       "</table>\n"
      ],
      "text/latex": [
       "A tibble: 6 × 2\n",
       "\\begin{tabular}{ll}\n",
       " start\\_time & end\\_time\\\\\n",
       " <chr> & <chr>\\\\\n",
       "\\hline\n",
       "\t 30/06/2024 18:12 & 30/06/2024 18:24\\\\\n",
       "\t 17/06/2024 23:33 & 17/06/2024 23:46\\\\\n",
       "\t 25/07/2024 17:34 & 25/07/2024 17:57\\\\\n",
       "\t 25/07/2024 03:22 & 25/07/2024 03:58\\\\\n",
       "\t 25/05/2024 16:01 & 25/05/2024 16:12\\\\\n",
       "\t 23/06/2024 15:08 & 23/06/2024 17:10\\\\\n",
       "\\end{tabular}\n"
      ],
      "text/markdown": [
       "\n",
       "A tibble: 6 × 2\n",
       "\n",
       "| start_time &lt;chr&gt; | end_time &lt;chr&gt; |\n",
       "|---|---|\n",
       "| 30/06/2024 18:12 | 30/06/2024 18:24 |\n",
       "| 17/06/2024 23:33 | 17/06/2024 23:46 |\n",
       "| 25/07/2024 17:34 | 25/07/2024 17:57 |\n",
       "| 25/07/2024 03:22 | 25/07/2024 03:58 |\n",
       "| 25/05/2024 16:01 | 25/05/2024 16:12 |\n",
       "| 23/06/2024 15:08 | 23/06/2024 17:10 |\n",
       "\n"
      ],
      "text/plain": [
       "  start_time       end_time        \n",
       "1 30/06/2024 18:12 30/06/2024 18:24\n",
       "2 17/06/2024 23:33 17/06/2024 23:46\n",
       "3 25/07/2024 17:34 25/07/2024 17:57\n",
       "4 25/07/2024 03:22 25/07/2024 03:58\n",
       "5 25/05/2024 16:01 25/05/2024 16:12\n",
       "6 23/06/2024 15:08 23/06/2024 17:10"
      ]
     },
     "metadata": {},
     "output_type": "display_data"
    }
   ],
   "source": [
    "# wranging data to just the data interested in\n",
    "\n",
    "select_sessions <- sessions|> \n",
    "                  select(start_time, end_time)\n",
    "head(select_sessions)             "
   ]
  },
  {
   "cell_type": "code",
   "execution_count": 4,
   "id": "ea1a8e33-7977-4085-8199-dc955479b585",
   "metadata": {},
   "outputs": [
    {
     "data": {
      "text/html": [
       "<table class=\"dataframe\">\n",
       "<caption>A tibble: 6 × 2</caption>\n",
       "<thead>\n",
       "\t<tr><th scope=col>start_time</th><th scope=col>end_time</th></tr>\n",
       "\t<tr><th scope=col>&lt;dttm&gt;</th><th scope=col>&lt;dttm&gt;</th></tr>\n",
       "</thead>\n",
       "<tbody>\n",
       "\t<tr><td>2030-06-21 00:18:12</td><td>2030-06-21 00:18:24</td></tr>\n",
       "\t<tr><td>2017-06-21 00:23:33</td><td>2017-06-21 00:23:46</td></tr>\n",
       "\t<tr><td>2025-07-21 00:17:34</td><td>2025-07-21 00:17:57</td></tr>\n",
       "\t<tr><td>2025-07-21 00:03:22</td><td>2025-07-21 00:03:58</td></tr>\n",
       "\t<tr><td>2025-05-21 00:16:01</td><td>2025-05-21 00:16:12</td></tr>\n",
       "\t<tr><td>2023-06-21 00:15:08</td><td>2023-06-21 00:17:10</td></tr>\n",
       "</tbody>\n",
       "</table>\n"
      ],
      "text/latex": [
       "A tibble: 6 × 2\n",
       "\\begin{tabular}{ll}\n",
       " start\\_time & end\\_time\\\\\n",
       " <dttm> & <dttm>\\\\\n",
       "\\hline\n",
       "\t 2030-06-21 00:18:12 & 2030-06-21 00:18:24\\\\\n",
       "\t 2017-06-21 00:23:33 & 2017-06-21 00:23:46\\\\\n",
       "\t 2025-07-21 00:17:34 & 2025-07-21 00:17:57\\\\\n",
       "\t 2025-07-21 00:03:22 & 2025-07-21 00:03:58\\\\\n",
       "\t 2025-05-21 00:16:01 & 2025-05-21 00:16:12\\\\\n",
       "\t 2023-06-21 00:15:08 & 2023-06-21 00:17:10\\\\\n",
       "\\end{tabular}\n"
      ],
      "text/markdown": [
       "\n",
       "A tibble: 6 × 2\n",
       "\n",
       "| start_time &lt;dttm&gt; | end_time &lt;dttm&gt; |\n",
       "|---|---|\n",
       "| 2030-06-21 00:18:12 | 2030-06-21 00:18:24 |\n",
       "| 2017-06-21 00:23:33 | 2017-06-21 00:23:46 |\n",
       "| 2025-07-21 00:17:34 | 2025-07-21 00:17:57 |\n",
       "| 2025-07-21 00:03:22 | 2025-07-21 00:03:58 |\n",
       "| 2025-05-21 00:16:01 | 2025-05-21 00:16:12 |\n",
       "| 2023-06-21 00:15:08 | 2023-06-21 00:17:10 |\n",
       "\n"
      ],
      "text/plain": [
       "  start_time          end_time           \n",
       "1 2030-06-21 00:18:12 2030-06-21 00:18:24\n",
       "2 2017-06-21 00:23:33 2017-06-21 00:23:46\n",
       "3 2025-07-21 00:17:34 2025-07-21 00:17:57\n",
       "4 2025-07-21 00:03:22 2025-07-21 00:03:58\n",
       "5 2025-05-21 00:16:01 2025-05-21 00:16:12\n",
       "6 2023-06-21 00:15:08 2023-06-21 00:17:10"
      ]
     },
     "metadata": {},
     "output_type": "display_data"
    }
   ],
   "source": [
    "# convert the data from character to date-time data type\n",
    "dttm_sessions <- select_sessions|> \n",
    "                  mutate(start_time = ymd_hms(start_time),\n",
    "                         end_time = ymd_hms(end_time)) \n",
    "head(dttm_sessions)"
   ]
  },
  {
   "cell_type": "code",
   "execution_count": 5,
   "id": "b1fe6e24-1d9a-41b7-923d-28db1685a8aa",
   "metadata": {},
   "outputs": [
    {
     "data": {
      "text/html": [
       "<table class=\"dataframe\">\n",
       "<caption>A tibble: 6 × 2</caption>\n",
       "<thead>\n",
       "\t<tr><th scope=col>start_time</th><th scope=col>end_time</th></tr>\n",
       "\t<tr><th scope=col>&lt;chr&gt;</th><th scope=col>&lt;chr&gt;</th></tr>\n",
       "</thead>\n",
       "<tbody>\n",
       "\t<tr><td> 00:18:12</td><td> 00:18:24</td></tr>\n",
       "\t<tr><td> 00:23:33</td><td> 00:23:46</td></tr>\n",
       "\t<tr><td> 00:17:34</td><td> 00:17:57</td></tr>\n",
       "\t<tr><td> 00:03:22</td><td> 00:03:58</td></tr>\n",
       "\t<tr><td> 00:16:01</td><td> 00:16:12</td></tr>\n",
       "\t<tr><td> 00:15:08</td><td> 00:17:10</td></tr>\n",
       "</tbody>\n",
       "</table>\n"
      ],
      "text/latex": [
       "A tibble: 6 × 2\n",
       "\\begin{tabular}{ll}\n",
       " start\\_time & end\\_time\\\\\n",
       " <chr> & <chr>\\\\\n",
       "\\hline\n",
       "\t  00:18:12 &  00:18:24\\\\\n",
       "\t  00:23:33 &  00:23:46\\\\\n",
       "\t  00:17:34 &  00:17:57\\\\\n",
       "\t  00:03:22 &  00:03:58\\\\\n",
       "\t  00:16:01 &  00:16:12\\\\\n",
       "\t  00:15:08 &  00:17:10\\\\\n",
       "\\end{tabular}\n"
      ],
      "text/markdown": [
       "\n",
       "A tibble: 6 × 2\n",
       "\n",
       "| start_time &lt;chr&gt; | end_time &lt;chr&gt; |\n",
       "|---|---|\n",
       "|  00:18:12 |  00:18:24 |\n",
       "|  00:23:33 |  00:23:46 |\n",
       "|  00:17:34 |  00:17:57 |\n",
       "|  00:03:22 |  00:03:58 |\n",
       "|  00:16:01 |  00:16:12 |\n",
       "|  00:15:08 |  00:17:10 |\n",
       "\n"
      ],
      "text/plain": [
       "  start_time end_time \n",
       "1  00:18:12   00:18:24\n",
       "2  00:23:33   00:23:46\n",
       "3  00:17:34   00:17:57\n",
       "4  00:03:22   00:03:58\n",
       "5  00:16:01   00:16:12\n",
       "6  00:15:08   00:17:10"
      ]
     },
     "metadata": {},
     "output_type": "display_data"
    }
   ],
   "source": [
    "# Mutating data frame to only have the start time, kinda unneeded\n",
    "\n",
    "time_sessions <- dttm_sessions|> \n",
    "        mutate(start_time = format(start_time,\" %H:%M:%S\"),\n",
    "               end_time = format(end_time,\" %H:%M:%S\"))\n",
    "head(time_sessions)"
   ]
  },
  {
   "cell_type": "code",
   "execution_count": 18,
   "id": "68d7452d-0c8b-4896-80a7-4b42067923e4",
   "metadata": {},
   "outputs": [
    {
     "data": {
      "text/html": [
       "<table class=\"dataframe\">\n",
       "<caption>A tibble: 6 × 6</caption>\n",
       "<thead>\n",
       "\t<tr><th scope=col>start_time_day</th><th scope=col>end_time_day</th><th scope=col>start_time_hours</th><th scope=col>end_time_hours</th><th scope=col>start_time_mins</th><th scope=col>end_time_mins</th></tr>\n",
       "\t<tr><th scope=col>&lt;chr&gt;</th><th scope=col>&lt;chr&gt;</th><th scope=col>&lt;chr&gt;</th><th scope=col>&lt;chr&gt;</th><th scope=col>&lt;chr&gt;</th><th scope=col>&lt;chr&gt;</th></tr>\n",
       "</thead>\n",
       "<tbody>\n",
       "\t<tr><td>00</td><td>00</td><td>18</td><td>18</td><td>12</td><td>24</td></tr>\n",
       "\t<tr><td>00</td><td>00</td><td>23</td><td>23</td><td>33</td><td>46</td></tr>\n",
       "\t<tr><td>00</td><td>00</td><td>17</td><td>17</td><td>34</td><td>57</td></tr>\n",
       "\t<tr><td>00</td><td>00</td><td>03</td><td>03</td><td>22</td><td>58</td></tr>\n",
       "\t<tr><td>00</td><td>00</td><td>16</td><td>16</td><td>01</td><td>12</td></tr>\n",
       "\t<tr><td>00</td><td>00</td><td>15</td><td>17</td><td>08</td><td>10</td></tr>\n",
       "</tbody>\n",
       "</table>\n"
      ],
      "text/latex": [
       "A tibble: 6 × 6\n",
       "\\begin{tabular}{llllll}\n",
       " start\\_time\\_day & end\\_time\\_day & start\\_time\\_hours & end\\_time\\_hours & start\\_time\\_mins & end\\_time\\_mins\\\\\n",
       " <chr> & <chr> & <chr> & <chr> & <chr> & <chr>\\\\\n",
       "\\hline\n",
       "\t 00 & 00 & 18 & 18 & 12 & 24\\\\\n",
       "\t 00 & 00 & 23 & 23 & 33 & 46\\\\\n",
       "\t 00 & 00 & 17 & 17 & 34 & 57\\\\\n",
       "\t 00 & 00 & 03 & 03 & 22 & 58\\\\\n",
       "\t 00 & 00 & 16 & 16 & 01 & 12\\\\\n",
       "\t 00 & 00 & 15 & 17 & 08 & 10\\\\\n",
       "\\end{tabular}\n"
      ],
      "text/markdown": [
       "\n",
       "A tibble: 6 × 6\n",
       "\n",
       "| start_time_day &lt;chr&gt; | end_time_day &lt;chr&gt; | start_time_hours &lt;chr&gt; | end_time_hours &lt;chr&gt; | start_time_mins &lt;chr&gt; | end_time_mins &lt;chr&gt; |\n",
       "|---|---|---|---|---|---|\n",
       "| 00 | 00 | 18 | 18 | 12 | 24 |\n",
       "| 00 | 00 | 23 | 23 | 33 | 46 |\n",
       "| 00 | 00 | 17 | 17 | 34 | 57 |\n",
       "| 00 | 00 | 03 | 03 | 22 | 58 |\n",
       "| 00 | 00 | 16 | 16 | 01 | 12 |\n",
       "| 00 | 00 | 15 | 17 | 08 | 10 |\n",
       "\n"
      ],
      "text/plain": [
       "  start_time_day end_time_day start_time_hours end_time_hours start_time_mins\n",
       "1 00             00           18               18             12             \n",
       "2 00             00           23               23             33             \n",
       "3 00             00           17               17             34             \n",
       "4 00             00           03               03             22             \n",
       "5 00             00           16               16             01             \n",
       "6 00             00           15               17             08             \n",
       "  end_time_mins\n",
       "1 24           \n",
       "2 46           \n",
       "3 57           \n",
       "4 58           \n",
       "5 12           \n",
       "6 10           "
      ]
     },
     "metadata": {},
     "output_type": "display_data"
    }
   ],
   "source": [
    "#separate columns into day, hours, mins\n",
    "separated_sessions <- dttm_sessions|> \n",
    "                      mutate(start_time_day = format(start_time,\"%H\"),\n",
    "                             end_time_day = format(end_time,\"%H\"),\n",
    "                             start_time_hours = format(start_time,\"%M\"),\n",
    "                             end_time_hours = format(end_time,\"%M\"),\n",
    "                             start_time_mins = format(start_time,\"%S\"),\n",
    "                             end_time_mins = format(end_time,\"%S\")) |>\n",
    "                     select(-start_time, -end_time)     \n",
    "head(separated_sessions)"
   ]
  },
  {
   "cell_type": "code",
   "execution_count": 35,
   "id": "98287062-d90d-4e29-a98a-6aa7d71e9f7b",
   "metadata": {},
   "outputs": [
    {
     "data": {
      "text/html": [
       "<table class=\"dataframe\">\n",
       "<caption>A tibble: 6 × 6</caption>\n",
       "<thead>\n",
       "\t<tr><th scope=col>start_time_day</th><th scope=col>end_time_day</th><th scope=col>start_time_hours</th><th scope=col>end_time_hours</th><th scope=col>start_time_mins</th><th scope=col>end_time_mins</th></tr>\n",
       "\t<tr><th scope=col>&lt;dbl&gt;</th><th scope=col>&lt;dbl&gt;</th><th scope=col>&lt;dbl&gt;</th><th scope=col>&lt;dbl&gt;</th><th scope=col>&lt;dbl&gt;</th><th scope=col>&lt;dbl&gt;</th></tr>\n",
       "</thead>\n",
       "<tbody>\n",
       "\t<tr><td>0</td><td>0</td><td>18</td><td>18</td><td>12</td><td>24</td></tr>\n",
       "\t<tr><td>0</td><td>0</td><td>23</td><td>23</td><td>33</td><td>46</td></tr>\n",
       "\t<tr><td>0</td><td>0</td><td>17</td><td>17</td><td>34</td><td>57</td></tr>\n",
       "\t<tr><td>0</td><td>0</td><td> 3</td><td> 3</td><td>22</td><td>58</td></tr>\n",
       "\t<tr><td>0</td><td>0</td><td>16</td><td>16</td><td> 1</td><td>12</td></tr>\n",
       "\t<tr><td>0</td><td>0</td><td>15</td><td>17</td><td> 8</td><td>10</td></tr>\n",
       "</tbody>\n",
       "</table>\n"
      ],
      "text/latex": [
       "A tibble: 6 × 6\n",
       "\\begin{tabular}{llllll}\n",
       " start\\_time\\_day & end\\_time\\_day & start\\_time\\_hours & end\\_time\\_hours & start\\_time\\_mins & end\\_time\\_mins\\\\\n",
       " <dbl> & <dbl> & <dbl> & <dbl> & <dbl> & <dbl>\\\\\n",
       "\\hline\n",
       "\t 0 & 0 & 18 & 18 & 12 & 24\\\\\n",
       "\t 0 & 0 & 23 & 23 & 33 & 46\\\\\n",
       "\t 0 & 0 & 17 & 17 & 34 & 57\\\\\n",
       "\t 0 & 0 &  3 &  3 & 22 & 58\\\\\n",
       "\t 0 & 0 & 16 & 16 &  1 & 12\\\\\n",
       "\t 0 & 0 & 15 & 17 &  8 & 10\\\\\n",
       "\\end{tabular}\n"
      ],
      "text/markdown": [
       "\n",
       "A tibble: 6 × 6\n",
       "\n",
       "| start_time_day &lt;dbl&gt; | end_time_day &lt;dbl&gt; | start_time_hours &lt;dbl&gt; | end_time_hours &lt;dbl&gt; | start_time_mins &lt;dbl&gt; | end_time_mins &lt;dbl&gt; |\n",
       "|---|---|---|---|---|---|\n",
       "| 0 | 0 | 18 | 18 | 12 | 24 |\n",
       "| 0 | 0 | 23 | 23 | 33 | 46 |\n",
       "| 0 | 0 | 17 | 17 | 34 | 57 |\n",
       "| 0 | 0 |  3 |  3 | 22 | 58 |\n",
       "| 0 | 0 | 16 | 16 |  1 | 12 |\n",
       "| 0 | 0 | 15 | 17 |  8 | 10 |\n",
       "\n"
      ],
      "text/plain": [
       "  start_time_day end_time_day start_time_hours end_time_hours start_time_mins\n",
       "1 0              0            18               18             12             \n",
       "2 0              0            23               23             33             \n",
       "3 0              0            17               17             34             \n",
       "4 0              0             3                3             22             \n",
       "5 0              0            16               16              1             \n",
       "6 0              0            15               17              8             \n",
       "  end_time_mins\n",
       "1 24           \n",
       "2 46           \n",
       "3 57           \n",
       "4 58           \n",
       "5 12           \n",
       "6 10           "
      ]
     },
     "metadata": {},
     "output_type": "display_data"
    }
   ],
   "source": [
    "#make all of the values numerical\n",
    "sessions_numeric <- separated_sessions|> \n",
    "                    map_df(as.numeric)\n",
    "                     \n",
    "head(sessions_numeric)"
   ]
  },
  {
   "cell_type": "code",
   "execution_count": null,
   "id": "dfbfbd55-89e2-42d7-ab42-3a8db2f09888",
   "metadata": {},
   "outputs": [],
   "source": []
  },
  {
   "cell_type": "code",
   "execution_count": null,
   "id": "d78864ca-bfef-4831-9526-83ceb6615a8b",
   "metadata": {},
   "outputs": [],
   "source": []
  },
  {
   "cell_type": "code",
   "execution_count": 42,
   "id": "fb80fb97-0523-407f-92e8-546a5897b266",
   "metadata": {},
   "outputs": [
    {
     "data": {
      "text/html": [
       "<table class=\"dataframe\">\n",
       "<caption>A tibble: 6 × 6</caption>\n",
       "<thead>\n",
       "\t<tr><th scope=col>start_time_day</th><th scope=col>end_time_day</th><th scope=col>start_time_hours</th><th scope=col>end_time_hours</th><th scope=col>start_time_mins</th><th scope=col>end_time_mins</th></tr>\n",
       "\t<tr><th scope=col>&lt;dbl&gt;</th><th scope=col>&lt;dbl&gt;</th><th scope=col>&lt;dbl&gt;</th><th scope=col>&lt;dbl&gt;</th><th scope=col>&lt;dbl&gt;</th><th scope=col>&lt;dbl&gt;</th></tr>\n",
       "</thead>\n",
       "<tbody>\n",
       "\t<tr><td>0</td><td>0</td><td>15</td><td>17</td><td> 8</td><td>10</td></tr>\n",
       "\t<tr><td>0</td><td>0</td><td> 2</td><td> 3</td><td>32</td><td>12</td></tr>\n",
       "\t<tr><td>0</td><td>0</td><td> 0</td><td> 3</td><td>51</td><td>15</td></tr>\n",
       "\t<tr><td>0</td><td>0</td><td> 0</td><td> 1</td><td>21</td><td>35</td></tr>\n",
       "\t<tr><td>0</td><td>0</td><td> 2</td><td> 3</td><td>58</td><td>21</td></tr>\n",
       "\t<tr><td>0</td><td>0</td><td> 2</td><td> 4</td><td>25</td><td> 5</td></tr>\n",
       "</tbody>\n",
       "</table>\n"
      ],
      "text/latex": [
       "A tibble: 6 × 6\n",
       "\\begin{tabular}{llllll}\n",
       " start\\_time\\_day & end\\_time\\_day & start\\_time\\_hours & end\\_time\\_hours & start\\_time\\_mins & end\\_time\\_mins\\\\\n",
       " <dbl> & <dbl> & <dbl> & <dbl> & <dbl> & <dbl>\\\\\n",
       "\\hline\n",
       "\t 0 & 0 & 15 & 17 &  8 & 10\\\\\n",
       "\t 0 & 0 &  2 &  3 & 32 & 12\\\\\n",
       "\t 0 & 0 &  0 &  3 & 51 & 15\\\\\n",
       "\t 0 & 0 &  0 &  1 & 21 & 35\\\\\n",
       "\t 0 & 0 &  2 &  3 & 58 & 21\\\\\n",
       "\t 0 & 0 &  2 &  4 & 25 &  5\\\\\n",
       "\\end{tabular}\n"
      ],
      "text/markdown": [
       "\n",
       "A tibble: 6 × 6\n",
       "\n",
       "| start_time_day &lt;dbl&gt; | end_time_day &lt;dbl&gt; | start_time_hours &lt;dbl&gt; | end_time_hours &lt;dbl&gt; | start_time_mins &lt;dbl&gt; | end_time_mins &lt;dbl&gt; |\n",
       "|---|---|---|---|---|---|\n",
       "| 0 | 0 | 15 | 17 |  8 | 10 |\n",
       "| 0 | 0 |  2 |  3 | 32 | 12 |\n",
       "| 0 | 0 |  0 |  3 | 51 | 15 |\n",
       "| 0 | 0 |  0 |  1 | 21 | 35 |\n",
       "| 0 | 0 |  2 |  3 | 58 | 21 |\n",
       "| 0 | 0 |  2 |  4 | 25 |  5 |\n",
       "\n"
      ],
      "text/plain": [
       "  start_time_day end_time_day start_time_hours end_time_hours start_time_mins\n",
       "1 0              0            15               17              8             \n",
       "2 0              0             2                3             32             \n",
       "3 0              0             0                3             51             \n",
       "4 0              0             0                1             21             \n",
       "5 0              0             2                3             58             \n",
       "6 0              0             2                4             25             \n",
       "  end_time_mins\n",
       "1 10           \n",
       "2 12           \n",
       "3 15           \n",
       "4 35           \n",
       "5 21           \n",
       "6  5           "
      ]
     },
     "metadata": {},
     "output_type": "display_data"
    },
    {
     "data": {
      "text/html": [
       "<table class=\"dataframe\">\n",
       "<caption>A tibble: 6 × 6</caption>\n",
       "<thead>\n",
       "\t<tr><th scope=col>start_time_day</th><th scope=col>end_time_day</th><th scope=col>start_time_hours</th><th scope=col>end_time_hours</th><th scope=col>start_time_mins</th><th scope=col>end_time_mins</th></tr>\n",
       "\t<tr><th scope=col>&lt;dbl&gt;</th><th scope=col>&lt;dbl&gt;</th><th scope=col>&lt;dbl&gt;</th><th scope=col>&lt;dbl&gt;</th><th scope=col>&lt;dbl&gt;</th><th scope=col>&lt;dbl&gt;</th></tr>\n",
       "</thead>\n",
       "<tbody>\n",
       "\t<tr><td>0</td><td>0</td><td>23</td><td>0</td><td>23</td><td>14</td></tr>\n",
       "\t<tr><td>0</td><td>0</td><td>21</td><td>0</td><td>26</td><td> 0</td></tr>\n",
       "\t<tr><td>0</td><td>0</td><td>23</td><td>0</td><td>30</td><td>23</td></tr>\n",
       "\t<tr><td>0</td><td>0</td><td>22</td><td>0</td><td>38</td><td>31</td></tr>\n",
       "\t<tr><td>0</td><td>0</td><td>23</td><td>1</td><td>22</td><td>50</td></tr>\n",
       "\t<tr><td>0</td><td>0</td><td>21</td><td>2</td><td>53</td><td> 5</td></tr>\n",
       "</tbody>\n",
       "</table>\n"
      ],
      "text/latex": [
       "A tibble: 6 × 6\n",
       "\\begin{tabular}{llllll}\n",
       " start\\_time\\_day & end\\_time\\_day & start\\_time\\_hours & end\\_time\\_hours & start\\_time\\_mins & end\\_time\\_mins\\\\\n",
       " <dbl> & <dbl> & <dbl> & <dbl> & <dbl> & <dbl>\\\\\n",
       "\\hline\n",
       "\t 0 & 0 & 23 & 0 & 23 & 14\\\\\n",
       "\t 0 & 0 & 21 & 0 & 26 &  0\\\\\n",
       "\t 0 & 0 & 23 & 0 & 30 & 23\\\\\n",
       "\t 0 & 0 & 22 & 0 & 38 & 31\\\\\n",
       "\t 0 & 0 & 23 & 1 & 22 & 50\\\\\n",
       "\t 0 & 0 & 21 & 2 & 53 &  5\\\\\n",
       "\\end{tabular}\n"
      ],
      "text/markdown": [
       "\n",
       "A tibble: 6 × 6\n",
       "\n",
       "| start_time_day &lt;dbl&gt; | end_time_day &lt;dbl&gt; | start_time_hours &lt;dbl&gt; | end_time_hours &lt;dbl&gt; | start_time_mins &lt;dbl&gt; | end_time_mins &lt;dbl&gt; |\n",
       "|---|---|---|---|---|---|\n",
       "| 0 | 0 | 23 | 0 | 23 | 14 |\n",
       "| 0 | 0 | 21 | 0 | 26 |  0 |\n",
       "| 0 | 0 | 23 | 0 | 30 | 23 |\n",
       "| 0 | 0 | 22 | 0 | 38 | 31 |\n",
       "| 0 | 0 | 23 | 1 | 22 | 50 |\n",
       "| 0 | 0 | 21 | 2 | 53 |  5 |\n",
       "\n"
      ],
      "text/plain": [
       "  start_time_day end_time_day start_time_hours end_time_hours start_time_mins\n",
       "1 0              0            23               0              23             \n",
       "2 0              0            21               0              26             \n",
       "3 0              0            23               0              30             \n",
       "4 0              0            22               0              38             \n",
       "5 0              0            23               1              22             \n",
       "6 0              0            21               2              53             \n",
       "  end_time_mins\n",
       "1 14           \n",
       "2  0           \n",
       "3 23           \n",
       "4 31           \n",
       "5 50           \n",
       "6  5           "
      ]
     },
     "metadata": {},
     "output_type": "display_data"
    },
    {
     "data": {
      "text/html": [
       "<table class=\"dataframe\">\n",
       "<caption>A tibble: 6 × 8</caption>\n",
       "<thead>\n",
       "\t<tr><th scope=col>start_time_day</th><th scope=col>end_time_day</th><th scope=col>start_time_hours</th><th scope=col>end_time_hours</th><th scope=col>start_time_mins</th><th scope=col>end_time_mins</th><th scope=col>start_time_played</th><th scope=col>hours_played</th></tr>\n",
       "\t<tr><th scope=col>&lt;dbl&gt;</th><th scope=col>&lt;dbl&gt;</th><th scope=col>&lt;dbl&gt;</th><th scope=col>&lt;dbl&gt;</th><th scope=col>&lt;dbl&gt;</th><th scope=col>&lt;dbl&gt;</th><th scope=col>&lt;dbl&gt;</th><th scope=col>&lt;dbl&gt;</th></tr>\n",
       "</thead>\n",
       "<tbody>\n",
       "\t<tr><td>0</td><td>0</td><td>23</td><td>0</td><td>23</td><td>14</td><td>1</td><td>1</td></tr>\n",
       "\t<tr><td>0</td><td>0</td><td>21</td><td>0</td><td>26</td><td> 0</td><td>3</td><td>3</td></tr>\n",
       "\t<tr><td>0</td><td>0</td><td>23</td><td>0</td><td>30</td><td>23</td><td>1</td><td>1</td></tr>\n",
       "\t<tr><td>0</td><td>0</td><td>22</td><td>0</td><td>38</td><td>31</td><td>2</td><td>2</td></tr>\n",
       "\t<tr><td>0</td><td>0</td><td>23</td><td>1</td><td>22</td><td>50</td><td>1</td><td>2</td></tr>\n",
       "\t<tr><td>0</td><td>0</td><td>21</td><td>2</td><td>53</td><td> 5</td><td>3</td><td>5</td></tr>\n",
       "</tbody>\n",
       "</table>\n"
      ],
      "text/latex": [
       "A tibble: 6 × 8\n",
       "\\begin{tabular}{llllllll}\n",
       " start\\_time\\_day & end\\_time\\_day & start\\_time\\_hours & end\\_time\\_hours & start\\_time\\_mins & end\\_time\\_mins & start\\_time\\_played & hours\\_played\\\\\n",
       " <dbl> & <dbl> & <dbl> & <dbl> & <dbl> & <dbl> & <dbl> & <dbl>\\\\\n",
       "\\hline\n",
       "\t 0 & 0 & 23 & 0 & 23 & 14 & 1 & 1\\\\\n",
       "\t 0 & 0 & 21 & 0 & 26 &  0 & 3 & 3\\\\\n",
       "\t 0 & 0 & 23 & 0 & 30 & 23 & 1 & 1\\\\\n",
       "\t 0 & 0 & 22 & 0 & 38 & 31 & 2 & 2\\\\\n",
       "\t 0 & 0 & 23 & 1 & 22 & 50 & 1 & 2\\\\\n",
       "\t 0 & 0 & 21 & 2 & 53 &  5 & 3 & 5\\\\\n",
       "\\end{tabular}\n"
      ],
      "text/markdown": [
       "\n",
       "A tibble: 6 × 8\n",
       "\n",
       "| start_time_day &lt;dbl&gt; | end_time_day &lt;dbl&gt; | start_time_hours &lt;dbl&gt; | end_time_hours &lt;dbl&gt; | start_time_mins &lt;dbl&gt; | end_time_mins &lt;dbl&gt; | start_time_played &lt;dbl&gt; | hours_played &lt;dbl&gt; |\n",
       "|---|---|---|---|---|---|---|---|\n",
       "| 0 | 0 | 23 | 0 | 23 | 14 | 1 | 1 |\n",
       "| 0 | 0 | 21 | 0 | 26 |  0 | 3 | 3 |\n",
       "| 0 | 0 | 23 | 0 | 30 | 23 | 1 | 1 |\n",
       "| 0 | 0 | 22 | 0 | 38 | 31 | 2 | 2 |\n",
       "| 0 | 0 | 23 | 1 | 22 | 50 | 1 | 2 |\n",
       "| 0 | 0 | 21 | 2 | 53 |  5 | 3 | 5 |\n",
       "\n"
      ],
      "text/plain": [
       "  start_time_day end_time_day start_time_hours end_time_hours start_time_mins\n",
       "1 0              0            23               0              23             \n",
       "2 0              0            21               0              26             \n",
       "3 0              0            23               0              30             \n",
       "4 0              0            22               0              38             \n",
       "5 0              0            23               1              22             \n",
       "6 0              0            21               2              53             \n",
       "  end_time_mins start_time_played hours_played\n",
       "1 14            1                 1           \n",
       "2  0            3                 3           \n",
       "3 23            1                 1           \n",
       "4 31            2                 2           \n",
       "5 50            1                 2           \n",
       "6  5            3                 5           "
      ]
     },
     "metadata": {},
     "output_type": "display_data"
    },
    {
     "ename": "ERROR",
     "evalue": "\u001b[1m\u001b[33mError\u001b[39m in `mutate()`:\u001b[22m\n\u001b[1m\u001b[22m\u001b[36mℹ\u001b[39m In argument: `same_length = end_time_length - start_time_length`.\n\u001b[1mCaused by error:\u001b[22m\n\u001b[33m!\u001b[39m object 'end_time_length' not found\n",
     "output_type": "error",
     "traceback": [
      "\u001b[1m\u001b[33mError\u001b[39m in `mutate()`:\u001b[22m\n\u001b[1m\u001b[22m\u001b[36mℹ\u001b[39m In argument: `same_length = end_time_length - start_time_length`.\n\u001b[1mCaused by error:\u001b[22m\n\u001b[33m!\u001b[39m object 'end_time_length' not found\nTraceback:\n",
      "1. select(mutate(same_day, same_length = end_time_length - start_time_length), \n .     same_length)",
      "2. mutate(same_day, same_length = end_time_length - start_time_length)",
      "3. mutate.data.frame(same_day, same_length = end_time_length - start_time_length)",
      "4. mutate_cols(.data, dplyr_quosures(...), by)",
      "5. withCallingHandlers(for (i in seq_along(dots)) {\n .     poke_error_context(dots, i, mask = mask)\n .     context_poke(\"column\", old_current_column)\n .     new_columns <- mutate_col(dots[[i]], data, mask, new_columns)\n . }, error = dplyr_error_handler(dots = dots, mask = mask, bullets = mutate_bullets, \n .     error_call = error_call, error_class = \"dplyr:::mutate_error\"), \n .     warning = dplyr_warning_handler(state = warnings_state, mask = mask, \n .         error_call = error_call))",
      "6. mutate_col(dots[[i]], data, mask, new_columns)",
      "7. mask$eval_all_mutate(quo)",
      "8. eval()",
      "9. .handleSimpleError(function (cnd) \n . {\n .     local_error_context(dots, i = frame[[i_sym]], mask = mask)\n .     if (inherits(cnd, \"dplyr:::internal_error\")) {\n .         parent <- error_cnd(message = bullets(cnd))\n .     }\n .     else {\n .         parent <- cnd\n .     }\n .     message <- c(cnd_bullet_header(action), i = if (has_active_group_context(mask)) cnd_bullet_cur_group_label())\n .     abort(message, class = error_class, parent = parent, call = error_call)\n . }, \"object 'end_time_length' not found\", base::quote(NULL))",
      "10. h(simpleError(msg, call))",
      "11. abort(message, class = error_class, parent = parent, call = error_call)",
      "12. signal_abort(cnd, .file)"
     ]
    }
   ],
   "source": [
    "\n",
    "#find the \"length\" of the start and end times in minutes\n",
    "#sessions_length <- sessions_numeric|> \n",
    "                  # mutate(start_time_length = start_time_hours + start_time_mins,\n",
    "                          #end_time_length = end_time_hours + end_time_mins)\n",
    "\n",
    "#head(sessions_length)\n",
    "\n",
    "#check if the player \"played\" into the next day, this condition the players played on the same day \n",
    "\n",
    "same_day <- sessions_numeric|>\n",
    "            filter(end_time_hours > start_time_hours)\n",
    "head(same_day)\n",
    "\n",
    "\n",
    "#check if the player \"played\" into the next day, this condition the players played to the next\n",
    "\n",
    "next_day <- sessions_numeric|>\n",
    "            filter(start_time_hours > end_time_hours)\n",
    "head(next_day)\n",
    "\n",
    "\n",
    "next_day_hours <- next_day|> \n",
    "                  mutate(start_time_played = 24 - start_time_hours)|>\n",
    "                  mutate(hours_played = start_time_played + end_time_hours)\n",
    "head(next_day_hours)\n",
    "              \n",
    "\n",
    "#find the total length of the hours of the session if played on the same day \n",
    "total_length_same <- same_day|> \n",
    "                         mutate(same_length = end_time_length - start_time_length)|>\n",
    "                         select(same_length)\n",
    "#head(total_length_same)\n",
    "\n",
    "\n",
    "#check if the player \"played\" into the next day, this condition the players played to the next\n",
    "\n",
    "next_day <- sessions_length|>\n",
    "            filter(start_time_length > end_time_length)\n",
    "#head(next_day)\n",
    "              \n",
    "\n",
    "#find the total length of the session if played on the same day \n",
    "total_length_next <- next_day|> \n",
    "                         mutate(next_length = end_time_length + start_time_length)|>\n",
    "                         select(next_length)\n",
    "#head(total_length_next)\n"
   ]
  },
  {
   "cell_type": "code",
   "execution_count": null,
   "id": "a3b02fe5-f387-4c9d-b26a-e2dcffd36cad",
   "metadata": {},
   "outputs": [],
   "source": [
    "hour_sessions_counted <- hour_sessions|> \n",
    "                         group_by(start_time)|>\n",
    "                         summarise(count = n())\n",
    "head(hour_sessions_counted)"
   ]
  },
  {
   "cell_type": "code",
   "execution_count": null,
   "id": "f4168d50-cd47-4932-9d35-7cfeb019c01e",
   "metadata": {},
   "outputs": [],
   "source": [
    "hour_plot <- hour_sessions_counted|> \n",
    "             ggplot(aes(x = start_time, y = count))+\n",
    "             geom_point()\n",
    "hour_plot"
   ]
  },
  {
   "cell_type": "code",
   "execution_count": null,
   "id": "6e579591-5d7e-460b-a41e-33ed1fd02cc2",
   "metadata": {},
   "outputs": [],
   "source": []
  },
  {
   "cell_type": "code",
   "execution_count": 1,
   "id": "468cff26-1aea-4d8a-b435-932124d064a4",
   "metadata": {},
   "outputs": [
    {
     "ename": "ERROR",
     "evalue": "Error in parse(text = x, srcfile = src): <text>:3:5: unexpected ','\n2: gender == \"Female\" ~ 1,\n3: ...),\n       ^\n",
     "output_type": "error",
     "traceback": [
      "Error in parse(text = x, srcfile = src): <text>:3:5: unexpected ','\n2: gender == \"Female\" ~ 1,\n3: ...),\n       ^\nTraceback:\n"
     ]
    }
   ],
   "source": [
    "gender_female = case_when(gender == \"Male\" ~ 0,\n",
    "gender == \"Female\" ~ 1,\n",
    "...),\n",
    "...)"
   ]
  },
  {
   "cell_type": "code",
   "execution_count": null,
   "id": "d61db39a-99a3-4a6b-8a83-b380eacf48b3",
   "metadata": {},
   "outputs": [],
   "source": []
  }
 ],
 "metadata": {
  "kernelspec": {
   "display_name": "R",
   "language": "R",
   "name": "ir"
  },
  "language_info": {
   "codemirror_mode": "r",
   "file_extension": ".r",
   "mimetype": "text/x-r-source",
   "name": "R",
   "pygments_lexer": "r",
   "version": "4.3.3"
  }
 },
 "nbformat": 4,
 "nbformat_minor": 5
}
